{
 "cells": [
  {
   "cell_type": "markdown",
   "source": [
    "## Loading Caffe-model weights for SSD"
   ],
   "metadata": {}
  },
  {
   "cell_type": "code",
   "execution_count": 15,
   "source": [
    "import numpy as np\n",
    "import cv2 as cv\n",
    "from motrackers.detectors.caffe import Caffe_SSDMobileNet"
   ],
   "outputs": [],
   "metadata": {}
  },
  {
   "cell_type": "code",
   "execution_count": 16,
   "source": [
    "VIDEO_FILE = \"./../video_data/cars.mp4\"\n",
    "WEIGHTS_PATH = \"./../pretrained_models/caffemodel_weights/MobileNetSSD_deploy.caffemodel\"\n",
    "CONFIG_FILE_PATH = \"./../pretrained_models/caffemodel_weights/MobileNetSSD_deploy.prototxt\"\n",
    "LABELS_PATH=\"./../pretrained_models/caffemodel_weights/ssd_mobilenet_caffe_names.json\"\n",
    "CONFIDENCE_THRESHOLD = 0.5\n",
    "NMS_THRESHOLD = 0.2\n",
    "DRAW_BOUNDING_BOXES = True"
   ],
   "outputs": [],
   "metadata": {}
  },
  {
   "cell_type": "code",
   "execution_count": 17,
   "source": [
    "model = Caffe_SSDMobileNet(\n",
    "    weights_path=WEIGHTS_PATH, \n",
    "    configfile_path=CONFIG_FILE_PATH,\n",
    "    labels_path=LABELS_PATH,\n",
    "    confidence_threshold=CONFIDENCE_THRESHOLD,\n",
    "    nms_threshold=NMS_THRESHOLD,\n",
    "    draw_bboxes=DRAW_BOUNDING_BOXES\n",
    ")"
   ],
   "outputs": [],
   "metadata": {}
  },
  {
   "cell_type": "code",
   "execution_count": 25,
   "source": [
    "cap = cv.VideoCapture(VIDEO_FILE)"
   ],
   "outputs": [
    {
     "output_type": "stream",
     "name": "stderr",
     "text": [
      "OpenCV: Couldn't read video stream from file \"./../video_data/cars.mp4\"\n"
     ]
    }
   ],
   "metadata": {}
  },
  {
   "cell_type": "code",
   "execution_count": 26,
   "source": [
    "while True:\n",
    "    ok, image = cap.read()\n",
    "    \n",
    "    if not ok:\n",
    "        print(\"Cannot read the video feed.\")\n",
    "        break\n",
    "    \n",
    "    bboxes, confidences, class_ids = model.detect(image)\n",
    "    \n",
    "    updated_image = model.draw_bboxes(image.copy(), bboxes, confidences, class_ids)\n",
    "    \n",
    "    cv.imshow(\"image\", updated_image)\n",
    "    if cv.waitKey(1) & 0xFF == ord('q'):\n",
    "        break\n",
    "\n",
    "cap.release()\n",
    "cv.destroyWindow(\"image\")"
   ],
   "outputs": [
    {
     "output_type": "stream",
     "name": "stdout",
     "text": [
      "Cannot read the video feed.\n"
     ]
    }
   ],
   "metadata": {
    "scrolled": false
   }
  },
  {
   "cell_type": "code",
   "execution_count": null,
   "source": [],
   "outputs": [],
   "metadata": {}
  }
 ],
 "metadata": {
  "kernelspec": {
   "name": "python3",
   "display_name": "Python 3.9.1 64-bit ('env': venv)"
  },
  "language_info": {
   "codemirror_mode": {
    "name": "ipython",
    "version": 3
   },
   "file_extension": ".py",
   "mimetype": "text/x-python",
   "name": "python",
   "nbconvert_exporter": "python",
   "pygments_lexer": "ipython3",
   "version": "3.9.1"
  },
  "interpreter": {
   "hash": "722a3791fbe8084b5fa6d558ebf0bbece15abd7775c4d9411f46417b71d63175"
  }
 },
 "nbformat": 4,
 "nbformat_minor": 4
}